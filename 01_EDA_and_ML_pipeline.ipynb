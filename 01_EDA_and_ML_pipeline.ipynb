{
 "cells": [
  {
   "cell_type": "markdown",
   "id": "1aa3e67b",
   "metadata": {},
   "source": [
    "# 📊 Revenue Assurance & Fraud Detection in Ed-Tech\n",
    "\n",
    "This notebook covers Exploratory Data Analysis (EDA), Churn Prediction, and Fraud Detection using the synthetic dataset."
   ]
  },
  {
   "cell_type": "code",
   "execution_count": null,
   "id": "49dffc07",
   "metadata": {},
   "outputs": [],
   "source": [
    "import pandas as pd\n",
    "import numpy as np\n",
    "import seaborn as sns\n",
    "import matplotlib.pyplot as plt\n",
    "from sklearn.model_selection import train_test_split\n",
    "from sklearn.ensemble import IsolationForest\n",
    "from sklearn.metrics import classification_report, confusion_matrix, roc_auc_score\n",
    "import xgboost as xgb\n",
    "import warnings\n",
    "warnings.filterwarnings('ignore')"
   ]
  },
  {
   "cell_type": "code",
   "execution_count": null,
   "id": "5698a278",
   "metadata": {},
   "outputs": [],
   "source": [
    "# Load CSVs\n",
    "users = pd.read_csv('data/users.csv')\n",
    "sessions = pd.read_csv('data/sessions.csv')\n",
    "subscriptions = pd.read_csv('data/subscriptions.csv')\n",
    "transactions = pd.read_csv('data/transactions.csv')\n",
    "interactions = pd.read_csv('data/content_interactions.csv')\n",
    "support_logs = pd.read_csv('data/support_logs.csv')"
   ]
  },
  {
   "cell_type": "markdown",
   "id": "d8464fff",
   "metadata": {},
   "source": [
    "## 🔍 EDA: User Overview"
   ]
  },
  {
   "cell_type": "code",
   "execution_count": null,
   "id": "a6556019",
   "metadata": {},
   "outputs": [],
   "source": [
    "users['signup_date'] = pd.to_datetime(users['signup_date'])\n",
    "users['signup_month'] = users['signup_date'].dt.to_period('M')\n",
    "sns.countplot(data=users, x='region', order=users['region'].value_counts().index)\n",
    "plt.title('User Distribution by Region')\n",
    "plt.xticks(rotation=45)\n",
    "plt.show()"
   ]
  },
  {
   "cell_type": "markdown",
   "id": "c4846869",
   "metadata": {},
   "source": [
    "## 📉 Churn Prediction: Feature Engineering"
   ]
  },
  {
   "cell_type": "code",
   "execution_count": null,
   "id": "c3070f6f",
   "metadata": {},
   "outputs": [],
   "source": [
    "# Simulate churn flag: if refund requested in >1 transaction OR drop_out = True\n",
    "refund_counts = transactions.groupby('user_id')['refund_requested'].sum().reset_index()\n",
    "dropouts = interactions.groupby('user_id')['drop_out'].sum().reset_index()\n",
    "user_churn = pd.merge(refund_counts, dropouts, on='user_id', how='outer').fillna(0)\n",
    "user_churn['churn'] = ((user_churn['refund_requested'] > 1) | (user_churn['drop_out'] > 0)).astype(int)\n",
    "\n",
    "# Join features\n",
    "features = users[['user_id', 'age', 'gender', 'region', 'device_count']].copy()\n",
    "features = features.merge(user_churn[['user_id', 'churn']], on='user_id')\n",
    "features = pd.get_dummies(features, columns=['gender', 'region'], drop_first=True)\n",
    "\n",
    "# Train-test split\n",
    "X = features.drop(columns=['user_id', 'churn'])\n",
    "y = features['churn']\n",
    "X_train, X_test, y_train, y_test = train_test_split(X, y, test_size=0.2, random_state=42)\n",
    "\n",
    "# Train model\n",
    "model = xgb.XGBClassifier(use_label_encoder=False, eval_metric='logloss')\n",
    "model.fit(X_train, y_train)\n",
    "\n",
    "# Evaluation\n",
    "y_pred = model.predict(X_test)\n",
    "print(classification_report(y_test, y_pred))\n",
    "print(\"ROC AUC:\", roc_auc_score(y_test, model.predict_proba(X_test)[:,1]))"
   ]
  },
  {
   "cell_type": "markdown",
   "id": "b245740a",
   "metadata": {},
   "source": [
    "## 🚨 Fraud Detection with Isolation Forest"
   ]
  },
  {
   "cell_type": "code",
   "execution_count": null,
   "id": "bf0a0cd3",
   "metadata": {},
   "outputs": [],
   "source": [
    "# Create features from transactions\n",
    "fraud_df = transactions.groupby('user_id').agg({\n",
    "    'amount': ['mean', 'std', 'count'],\n",
    "    'refund_requested': 'sum'\n",
    "}).reset_index()\n",
    "fraud_df.columns = ['user_id', 'avg_amount', 'std_amount', 'num_txns', 'refunds']\n",
    "fraud_df.fillna(0, inplace=True)\n",
    "\n",
    "# Fit Isolation Forest\n",
    "iso = IsolationForest(contamination=0.05, random_state=42)\n",
    "fraud_df['fraud_score'] = iso.fit_predict(fraud_df[['avg_amount', 'std_amount', 'num_txns', 'refunds']])\n",
    "fraud_df['fraudulent'] = fraud_df['fraud_score'].apply(lambda x: 1 if x == -1 else 0)\n",
    "\n",
    "# Show top suspicious users\n",
    "fraud_df.sort_values(by='fraudulent', ascending=False).head(10)"
   ]
  }
 ],
 "metadata": {},
 "nbformat": 4,
 "nbformat_minor": 5
}
